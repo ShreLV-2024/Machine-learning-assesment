{
 "cells": [
  {
   "cell_type": "code",
   "execution_count": 58,
   "id": "28943074-441c-4c59-935e-c43861d30029",
   "metadata": {},
   "outputs": [],
   "source": [
    "from sklearn.model_selection import train_test_split\n",
    "from sklearn.metrics import accuracy_score, mean_squared_error, precision_score, f1_score, recall_score, confusion_matrix, silhouette_score, davies_bouldin_score, calinski_harabasz_score, r2_score\n",
    "import time\n",
    "from sklearn.preprocessing import LabelEncoder, MinMaxScaler,StandardScaler\n",
    "import pandas as pd\n",
    "import numpy as np\n",
    "import seaborn as sns\n",
    "import matplotlib.pyplot as plt\n",
    "from sklearn.linear_model import LinearRegression\n",
    "from sklearn.linear_model import LogisticRegression\n",
    "from sklearn.ensemble import RandomForestClassifier,RandomForestRegressor\n",
    "from sklearn.tree import DecisionTreeClassifier,DecisionTreeRegressor\n",
    "from sklearn.neighbors import KNeighborsClassifier\n",
    "from sklearn.svm import SVC\n",
    "from sklearn.cluster import KMeans"
   ]
  },
  {
   "cell_type": "code",
   "execution_count": 59,
   "id": "ee6661d4-d848-4565-b2f2-9313ea2c1b45",
   "metadata": {},
   "outputs": [],
   "source": [
    "df = pd.read_csv('auto-mpg.csv')"
   ]
  },
  {
   "cell_type": "code",
   "execution_count": 60,
   "id": "4184f416-a0cc-470a-8450-3ac54681815e",
   "metadata": {},
   "outputs": [
    {
     "data": {
      "text/html": [
       "<div>\n",
       "<style scoped>\n",
       "    .dataframe tbody tr th:only-of-type {\n",
       "        vertical-align: middle;\n",
       "    }\n",
       "\n",
       "    .dataframe tbody tr th {\n",
       "        vertical-align: top;\n",
       "    }\n",
       "\n",
       "    .dataframe thead th {\n",
       "        text-align: right;\n",
       "    }\n",
       "</style>\n",
       "<table border=\"1\" class=\"dataframe\">\n",
       "  <thead>\n",
       "    <tr style=\"text-align: right;\">\n",
       "      <th></th>\n",
       "      <th>mpg</th>\n",
       "      <th>cylinders</th>\n",
       "      <th>displacement</th>\n",
       "      <th>horsepower</th>\n",
       "      <th>weight</th>\n",
       "      <th>acceleration</th>\n",
       "      <th>model year</th>\n",
       "      <th>origin</th>\n",
       "      <th>car name</th>\n",
       "    </tr>\n",
       "  </thead>\n",
       "  <tbody>\n",
       "    <tr>\n",
       "      <th>0</th>\n",
       "      <td>18.0</td>\n",
       "      <td>8</td>\n",
       "      <td>307.0</td>\n",
       "      <td>130</td>\n",
       "      <td>3504</td>\n",
       "      <td>12.0</td>\n",
       "      <td>70</td>\n",
       "      <td>1</td>\n",
       "      <td>chevrolet chevelle malibu</td>\n",
       "    </tr>\n",
       "    <tr>\n",
       "      <th>1</th>\n",
       "      <td>15.0</td>\n",
       "      <td>8</td>\n",
       "      <td>350.0</td>\n",
       "      <td>165</td>\n",
       "      <td>3693</td>\n",
       "      <td>11.5</td>\n",
       "      <td>70</td>\n",
       "      <td>1</td>\n",
       "      <td>buick skylark 320</td>\n",
       "    </tr>\n",
       "    <tr>\n",
       "      <th>2</th>\n",
       "      <td>18.0</td>\n",
       "      <td>8</td>\n",
       "      <td>318.0</td>\n",
       "      <td>150</td>\n",
       "      <td>3436</td>\n",
       "      <td>11.0</td>\n",
       "      <td>70</td>\n",
       "      <td>1</td>\n",
       "      <td>plymouth satellite</td>\n",
       "    </tr>\n",
       "    <tr>\n",
       "      <th>3</th>\n",
       "      <td>16.0</td>\n",
       "      <td>8</td>\n",
       "      <td>304.0</td>\n",
       "      <td>150</td>\n",
       "      <td>3433</td>\n",
       "      <td>12.0</td>\n",
       "      <td>70</td>\n",
       "      <td>1</td>\n",
       "      <td>amc rebel sst</td>\n",
       "    </tr>\n",
       "    <tr>\n",
       "      <th>4</th>\n",
       "      <td>17.0</td>\n",
       "      <td>8</td>\n",
       "      <td>302.0</td>\n",
       "      <td>140</td>\n",
       "      <td>3449</td>\n",
       "      <td>10.5</td>\n",
       "      <td>70</td>\n",
       "      <td>1</td>\n",
       "      <td>ford torino</td>\n",
       "    </tr>\n",
       "    <tr>\n",
       "      <th>...</th>\n",
       "      <td>...</td>\n",
       "      <td>...</td>\n",
       "      <td>...</td>\n",
       "      <td>...</td>\n",
       "      <td>...</td>\n",
       "      <td>...</td>\n",
       "      <td>...</td>\n",
       "      <td>...</td>\n",
       "      <td>...</td>\n",
       "    </tr>\n",
       "    <tr>\n",
       "      <th>393</th>\n",
       "      <td>27.0</td>\n",
       "      <td>4</td>\n",
       "      <td>140.0</td>\n",
       "      <td>86</td>\n",
       "      <td>2790</td>\n",
       "      <td>15.6</td>\n",
       "      <td>82</td>\n",
       "      <td>1</td>\n",
       "      <td>ford mustang gl</td>\n",
       "    </tr>\n",
       "    <tr>\n",
       "      <th>394</th>\n",
       "      <td>44.0</td>\n",
       "      <td>4</td>\n",
       "      <td>97.0</td>\n",
       "      <td>52</td>\n",
       "      <td>2130</td>\n",
       "      <td>24.6</td>\n",
       "      <td>82</td>\n",
       "      <td>2</td>\n",
       "      <td>vw pickup</td>\n",
       "    </tr>\n",
       "    <tr>\n",
       "      <th>395</th>\n",
       "      <td>32.0</td>\n",
       "      <td>4</td>\n",
       "      <td>135.0</td>\n",
       "      <td>84</td>\n",
       "      <td>2295</td>\n",
       "      <td>11.6</td>\n",
       "      <td>82</td>\n",
       "      <td>1</td>\n",
       "      <td>dodge rampage</td>\n",
       "    </tr>\n",
       "    <tr>\n",
       "      <th>396</th>\n",
       "      <td>28.0</td>\n",
       "      <td>4</td>\n",
       "      <td>NaN</td>\n",
       "      <td>79</td>\n",
       "      <td>2625</td>\n",
       "      <td>18.6</td>\n",
       "      <td>82</td>\n",
       "      <td>1</td>\n",
       "      <td>ford ranger</td>\n",
       "    </tr>\n",
       "    <tr>\n",
       "      <th>397</th>\n",
       "      <td>31.0</td>\n",
       "      <td>4</td>\n",
       "      <td>119.0</td>\n",
       "      <td>82</td>\n",
       "      <td>2720</td>\n",
       "      <td>19.4</td>\n",
       "      <td>82</td>\n",
       "      <td>1</td>\n",
       "      <td>chevy s-10</td>\n",
       "    </tr>\n",
       "  </tbody>\n",
       "</table>\n",
       "<p>398 rows × 9 columns</p>\n",
       "</div>"
      ],
      "text/plain": [
       "      mpg  cylinders  displacement horsepower  weight  acceleration  \\\n",
       "0    18.0          8         307.0        130    3504          12.0   \n",
       "1    15.0          8         350.0        165    3693          11.5   \n",
       "2    18.0          8         318.0        150    3436          11.0   \n",
       "3    16.0          8         304.0        150    3433          12.0   \n",
       "4    17.0          8         302.0        140    3449          10.5   \n",
       "..    ...        ...           ...        ...     ...           ...   \n",
       "393  27.0          4         140.0         86    2790          15.6   \n",
       "394  44.0          4          97.0         52    2130          24.6   \n",
       "395  32.0          4         135.0         84    2295          11.6   \n",
       "396  28.0          4           NaN         79    2625          18.6   \n",
       "397  31.0          4         119.0         82    2720          19.4   \n",
       "\n",
       "     model year  origin                   car name  \n",
       "0            70       1  chevrolet chevelle malibu  \n",
       "1            70       1          buick skylark 320  \n",
       "2            70       1         plymouth satellite  \n",
       "3            70       1              amc rebel sst  \n",
       "4            70       1                ford torino  \n",
       "..          ...     ...                        ...  \n",
       "393          82       1            ford mustang gl  \n",
       "394          82       2                  vw pickup  \n",
       "395          82       1              dodge rampage  \n",
       "396          82       1                ford ranger  \n",
       "397          82       1                 chevy s-10  \n",
       "\n",
       "[398 rows x 9 columns]"
      ]
     },
     "execution_count": 60,
     "metadata": {},
     "output_type": "execute_result"
    }
   ],
   "source": [
    "df"
   ]
  },
  {
   "cell_type": "code",
   "execution_count": 61,
   "id": "21e0e68a-35d7-4a91-b3d2-007bd64fd5a8",
   "metadata": {},
   "outputs": [
    {
     "data": {
      "text/plain": [
       "mpg             0\n",
       "cylinders       0\n",
       "displacement    1\n",
       "horsepower      1\n",
       "weight          0\n",
       "acceleration    2\n",
       "model year      0\n",
       "origin          0\n",
       "car name        0\n",
       "dtype: int64"
      ]
     },
     "execution_count": 61,
     "metadata": {},
     "output_type": "execute_result"
    }
   ],
   "source": [
    "df.isna().sum()\n",
    "# Considering its only 4 rows, we can go ahead and drop it "
   ]
  },
  {
   "cell_type": "code",
   "execution_count": 62,
   "id": "aae76cc2-7a2d-4f9c-91c6-16c08301907e",
   "metadata": {},
   "outputs": [],
   "source": [
    "df = df[~df['displacement'].isna()]"
   ]
  },
  {
   "cell_type": "code",
   "execution_count": 63,
   "id": "001b6a68-4c08-4e2b-8bfe-d9c916fa4032",
   "metadata": {},
   "outputs": [],
   "source": [
    "df = df[~df['horsepower'].isna()]\n",
    "df = df[~df['acceleration'].isna()]"
   ]
  },
  {
   "cell_type": "code",
   "execution_count": 64,
   "id": "848c34c3-39e1-462d-8c07-eaf208da7191",
   "metadata": {},
   "outputs": [
    {
     "data": {
      "text/html": [
       "<div>\n",
       "<style scoped>\n",
       "    .dataframe tbody tr th:only-of-type {\n",
       "        vertical-align: middle;\n",
       "    }\n",
       "\n",
       "    .dataframe tbody tr th {\n",
       "        vertical-align: top;\n",
       "    }\n",
       "\n",
       "    .dataframe thead th {\n",
       "        text-align: right;\n",
       "    }\n",
       "</style>\n",
       "<table border=\"1\" class=\"dataframe\">\n",
       "  <thead>\n",
       "    <tr style=\"text-align: right;\">\n",
       "      <th></th>\n",
       "      <th>mpg</th>\n",
       "      <th>cylinders</th>\n",
       "      <th>displacement</th>\n",
       "      <th>horsepower</th>\n",
       "      <th>weight</th>\n",
       "      <th>acceleration</th>\n",
       "      <th>model year</th>\n",
       "      <th>origin</th>\n",
       "      <th>car name</th>\n",
       "    </tr>\n",
       "  </thead>\n",
       "  <tbody>\n",
       "  </tbody>\n",
       "</table>\n",
       "</div>"
      ],
      "text/plain": [
       "Empty DataFrame\n",
       "Columns: [mpg, cylinders, displacement, horsepower, weight, acceleration, model year, origin, car name]\n",
       "Index: []"
      ]
     },
     "execution_count": 64,
     "metadata": {},
     "output_type": "execute_result"
    }
   ],
   "source": [
    "df[df.duplicated()]\n",
    "# no duplicates"
   ]
  },
  {
   "cell_type": "code",
   "execution_count": 65,
   "id": "f7ac2c2d-ad47-401f-b008-d0ccf95da63b",
   "metadata": {},
   "outputs": [
    {
     "data": {
      "text/plain": [
       "Index(['mpg', 'cylinders', 'displacement', 'horsepower', 'weight',\n",
       "       'acceleration', 'model year', 'origin', 'car name'],\n",
       "      dtype='object')"
      ]
     },
     "execution_count": 65,
     "metadata": {},
     "output_type": "execute_result"
    }
   ],
   "source": [
    "df.columns"
   ]
  },
  {
   "cell_type": "code",
   "execution_count": 66,
   "id": "730ba560-5178-4a9a-8e20-110d52bf278e",
   "metadata": {},
   "outputs": [],
   "source": [
    "df1 = df.select_dtypes(include = ['int','float'])"
   ]
  },
  {
   "cell_type": "code",
   "execution_count": 67,
   "id": "2cbb0026-31c4-4d01-b5f6-b985de587087",
   "metadata": {},
   "outputs": [
    {
     "name": "stderr",
     "output_type": "stream",
     "text": [
      "C:\\Users\\shreyas.sridharan.lv\\AppData\\Local\\Temp\\ipykernel_10348\\2289933199.py:13: FutureWarning: Series.__getitem__ treating keys as positions is deprecated. In a future version, integer keys will always be treated as labels (consistent with DataFrame behavior). To access a value by position, use `ser.iloc[pos]`\n",
      "  dicti[i] = df1[(df1[i] < lower_limit) | (df1[i] > upper_limit)].count()[0]\n",
      "C:\\Users\\shreyas.sridharan.lv\\AppData\\Local\\Temp\\ipykernel_10348\\2289933199.py:13: FutureWarning: Series.__getitem__ treating keys as positions is deprecated. In a future version, integer keys will always be treated as labels (consistent with DataFrame behavior). To access a value by position, use `ser.iloc[pos]`\n",
      "  dicti[i] = df1[(df1[i] < lower_limit) | (df1[i] > upper_limit)].count()[0]\n",
      "C:\\Users\\shreyas.sridharan.lv\\AppData\\Local\\Temp\\ipykernel_10348\\2289933199.py:13: FutureWarning: Series.__getitem__ treating keys as positions is deprecated. In a future version, integer keys will always be treated as labels (consistent with DataFrame behavior). To access a value by position, use `ser.iloc[pos]`\n",
      "  dicti[i] = df1[(df1[i] < lower_limit) | (df1[i] > upper_limit)].count()[0]\n",
      "C:\\Users\\shreyas.sridharan.lv\\AppData\\Local\\Temp\\ipykernel_10348\\2289933199.py:13: FutureWarning: Series.__getitem__ treating keys as positions is deprecated. In a future version, integer keys will always be treated as labels (consistent with DataFrame behavior). To access a value by position, use `ser.iloc[pos]`\n",
      "  dicti[i] = df1[(df1[i] < lower_limit) | (df1[i] > upper_limit)].count()[0]\n",
      "C:\\Users\\shreyas.sridharan.lv\\AppData\\Local\\Temp\\ipykernel_10348\\2289933199.py:13: FutureWarning: Series.__getitem__ treating keys as positions is deprecated. In a future version, integer keys will always be treated as labels (consistent with DataFrame behavior). To access a value by position, use `ser.iloc[pos]`\n",
      "  dicti[i] = df1[(df1[i] < lower_limit) | (df1[i] > upper_limit)].count()[0]\n",
      "C:\\Users\\shreyas.sridharan.lv\\AppData\\Local\\Temp\\ipykernel_10348\\2289933199.py:13: FutureWarning: Series.__getitem__ treating keys as positions is deprecated. In a future version, integer keys will always be treated as labels (consistent with DataFrame behavior). To access a value by position, use `ser.iloc[pos]`\n",
      "  dicti[i] = df1[(df1[i] < lower_limit) | (df1[i] > upper_limit)].count()[0]\n",
      "C:\\Users\\shreyas.sridharan.lv\\AppData\\Local\\Temp\\ipykernel_10348\\2289933199.py:13: FutureWarning: Series.__getitem__ treating keys as positions is deprecated. In a future version, integer keys will always be treated as labels (consistent with DataFrame behavior). To access a value by position, use `ser.iloc[pos]`\n",
      "  dicti[i] = df1[(df1[i] < lower_limit) | (df1[i] > upper_limit)].count()[0]\n"
     ]
    }
   ],
   "source": [
    "dicti = {}\n",
    "\n",
    "for i in df1.columns:\n",
    "\n",
    "\n",
    "    Q1 = df1[i].quantile(0.25)\n",
    "    Q3 = df1[i].quantile(0.75)\n",
    "    IQR = Q3 - Q1\n",
    "\n",
    "    lower_limit = Q1 - (1.5*IQR)\n",
    "    upper_limit = Q3 + (1.5*IQR)\n",
    "\n",
    "    dicti[i] = df1[(df1[i] < lower_limit) | (df1[i] > upper_limit)].count()[0]"
   ]
  },
  {
   "cell_type": "code",
   "execution_count": 68,
   "id": "de5ee9ae-b5df-43d8-bad6-bf82d19ad8cc",
   "metadata": {},
   "outputs": [
    {
     "data": {
      "text/plain": [
       "{'mpg': 0,\n",
       " 'cylinders': 0,\n",
       " 'displacement': 0,\n",
       " 'weight': 0,\n",
       " 'acceleration': 10,\n",
       " 'model year': 0,\n",
       " 'origin': 0}"
      ]
     },
     "execution_count": 68,
     "metadata": {},
     "output_type": "execute_result"
    }
   ],
   "source": [
    "dicti\n",
    "# There are 10 outliers in acceleration"
   ]
  },
  {
   "cell_type": "code",
   "execution_count": 69,
   "id": "cf64999f-f344-47c6-897c-11538cae40d4",
   "metadata": {},
   "outputs": [
    {
     "name": "stderr",
     "output_type": "stream",
     "text": [
      "C:\\Users\\shreyas.sridharan.lv\\AppData\\Local\\Temp\\ipykernel_10348\\166276614.py:8: FutureWarning: Setting an item of incompatible dtype is deprecated and will raise in a future error of pandas. Value '15.55786802030457' has dtype incompatible with int64, please explicitly cast to a compatible dtype first.\n",
      "  df[(df['acceleration'] < lower_limit) | (df['acceleration'] > upper_limit)] = df['acceleration'].mean()\n"
     ]
    }
   ],
   "source": [
    "Q1 = df['acceleration'].quantile(0.25)\n",
    "Q3 = df['acceleration'].quantile(0.75)\n",
    "IQR = Q3 - Q1\n",
    "\n",
    "lower_limit = Q1 - (1.5*IQR)\n",
    "upper_limit = Q3 + (1.5*IQR)\n",
    "\n",
    "df[(df['acceleration'] < lower_limit) | (df['acceleration'] > upper_limit)] = df['acceleration'].mean()\n",
    "# Replacing outliers with the mean"
   ]
  },
  {
   "cell_type": "code",
   "execution_count": 70,
   "id": "0e9b5cfd-79ba-4b78-a3f5-a77ce46b4a4c",
   "metadata": {},
   "outputs": [],
   "source": [
    "\n",
    "df = df.round(2)"
   ]
  },
  {
   "cell_type": "code",
   "execution_count": 71,
   "id": "a414fcbf-0f4a-4397-8631-7e0549c293aa",
   "metadata": {},
   "outputs": [
    {
     "data": {
      "text/html": [
       "<div>\n",
       "<style scoped>\n",
       "    .dataframe tbody tr th:only-of-type {\n",
       "        vertical-align: middle;\n",
       "    }\n",
       "\n",
       "    .dataframe tbody tr th {\n",
       "        vertical-align: top;\n",
       "    }\n",
       "\n",
       "    .dataframe thead th {\n",
       "        text-align: right;\n",
       "    }\n",
       "</style>\n",
       "<table border=\"1\" class=\"dataframe\">\n",
       "  <thead>\n",
       "    <tr style=\"text-align: right;\">\n",
       "      <th></th>\n",
       "      <th>mpg</th>\n",
       "      <th>cylinders</th>\n",
       "      <th>displacement</th>\n",
       "      <th>weight</th>\n",
       "      <th>acceleration</th>\n",
       "      <th>model year</th>\n",
       "      <th>origin</th>\n",
       "    </tr>\n",
       "  </thead>\n",
       "  <tbody>\n",
       "    <tr>\n",
       "      <th>count</th>\n",
       "      <td>394.000000</td>\n",
       "      <td>394.000000</td>\n",
       "      <td>394.000000</td>\n",
       "      <td>394.000000</td>\n",
       "      <td>394.000000</td>\n",
       "      <td>394.000000</td>\n",
       "      <td>394.000000</td>\n",
       "    </tr>\n",
       "    <tr>\n",
       "      <th>mean</th>\n",
       "      <td>23.196447</td>\n",
       "      <td>5.722335</td>\n",
       "      <td>189.520558</td>\n",
       "      <td>2904.024365</td>\n",
       "      <td>15.475381</td>\n",
       "      <td>74.488832</td>\n",
       "      <td>1.930457</td>\n",
       "    </tr>\n",
       "    <tr>\n",
       "      <th>std</th>\n",
       "      <td>7.731735</td>\n",
       "      <td>2.308607</td>\n",
       "      <td>106.028500</td>\n",
       "      <td>958.996714</td>\n",
       "      <td>2.471871</td>\n",
       "      <td>10.180457</td>\n",
       "      <td>2.342130</td>\n",
       "    </tr>\n",
       "    <tr>\n",
       "      <th>min</th>\n",
       "      <td>9.000000</td>\n",
       "      <td>3.000000</td>\n",
       "      <td>15.560000</td>\n",
       "      <td>15.560000</td>\n",
       "      <td>9.000000</td>\n",
       "      <td>15.560000</td>\n",
       "      <td>1.000000</td>\n",
       "    </tr>\n",
       "    <tr>\n",
       "      <th>25%</th>\n",
       "      <td>16.925000</td>\n",
       "      <td>4.000000</td>\n",
       "      <td>98.000000</td>\n",
       "      <td>2206.250000</td>\n",
       "      <td>14.000000</td>\n",
       "      <td>73.000000</td>\n",
       "      <td>1.000000</td>\n",
       "    </tr>\n",
       "    <tr>\n",
       "      <th>50%</th>\n",
       "      <td>22.000000</td>\n",
       "      <td>4.000000</td>\n",
       "      <td>146.000000</td>\n",
       "      <td>2789.500000</td>\n",
       "      <td>15.500000</td>\n",
       "      <td>76.000000</td>\n",
       "      <td>1.000000</td>\n",
       "    </tr>\n",
       "    <tr>\n",
       "      <th>75%</th>\n",
       "      <td>29.000000</td>\n",
       "      <td>8.000000</td>\n",
       "      <td>260.000000</td>\n",
       "      <td>3573.000000</td>\n",
       "      <td>17.000000</td>\n",
       "      <td>79.000000</td>\n",
       "      <td>2.000000</td>\n",
       "    </tr>\n",
       "    <tr>\n",
       "      <th>max</th>\n",
       "      <td>46.600000</td>\n",
       "      <td>15.560000</td>\n",
       "      <td>455.000000</td>\n",
       "      <td>5140.000000</td>\n",
       "      <td>21.900000</td>\n",
       "      <td>82.000000</td>\n",
       "      <td>15.560000</td>\n",
       "    </tr>\n",
       "  </tbody>\n",
       "</table>\n",
       "</div>"
      ],
      "text/plain": [
       "              mpg   cylinders  displacement       weight  acceleration  \\\n",
       "count  394.000000  394.000000    394.000000   394.000000    394.000000   \n",
       "mean    23.196447    5.722335    189.520558  2904.024365     15.475381   \n",
       "std      7.731735    2.308607    106.028500   958.996714      2.471871   \n",
       "min      9.000000    3.000000     15.560000    15.560000      9.000000   \n",
       "25%     16.925000    4.000000     98.000000  2206.250000     14.000000   \n",
       "50%     22.000000    4.000000    146.000000  2789.500000     15.500000   \n",
       "75%     29.000000    8.000000    260.000000  3573.000000     17.000000   \n",
       "max     46.600000   15.560000    455.000000  5140.000000     21.900000   \n",
       "\n",
       "       model year      origin  \n",
       "count  394.000000  394.000000  \n",
       "mean    74.488832    1.930457  \n",
       "std     10.180457    2.342130  \n",
       "min     15.560000    1.000000  \n",
       "25%     73.000000    1.000000  \n",
       "50%     76.000000    1.000000  \n",
       "75%     79.000000    2.000000  \n",
       "max     82.000000   15.560000  "
      ]
     },
     "execution_count": 71,
     "metadata": {},
     "output_type": "execute_result"
    }
   ],
   "source": [
    "df.describe()"
   ]
  },
  {
   "cell_type": "code",
   "execution_count": 72,
   "id": "f9392b24-1eb8-414b-aa96-4b194a4c402e",
   "metadata": {},
   "outputs": [
    {
     "data": {
      "text/html": [
       "<div>\n",
       "<style scoped>\n",
       "    .dataframe tbody tr th:only-of-type {\n",
       "        vertical-align: middle;\n",
       "    }\n",
       "\n",
       "    .dataframe tbody tr th {\n",
       "        vertical-align: top;\n",
       "    }\n",
       "\n",
       "    .dataframe thead th {\n",
       "        text-align: right;\n",
       "    }\n",
       "</style>\n",
       "<table border=\"1\" class=\"dataframe\">\n",
       "  <thead>\n",
       "    <tr style=\"text-align: right;\">\n",
       "      <th></th>\n",
       "      <th>mpg</th>\n",
       "      <th>cylinders</th>\n",
       "      <th>displacement</th>\n",
       "      <th>horsepower</th>\n",
       "      <th>weight</th>\n",
       "      <th>acceleration</th>\n",
       "      <th>model year</th>\n",
       "      <th>origin</th>\n",
       "      <th>car name</th>\n",
       "    </tr>\n",
       "  </thead>\n",
       "  <tbody>\n",
       "    <tr>\n",
       "      <th>0</th>\n",
       "      <td>18.0</td>\n",
       "      <td>8.0</td>\n",
       "      <td>307.0</td>\n",
       "      <td>130</td>\n",
       "      <td>3504.0</td>\n",
       "      <td>12.0</td>\n",
       "      <td>70.0</td>\n",
       "      <td>1.0</td>\n",
       "      <td>chevrolet chevelle malibu</td>\n",
       "    </tr>\n",
       "    <tr>\n",
       "      <th>1</th>\n",
       "      <td>15.0</td>\n",
       "      <td>8.0</td>\n",
       "      <td>350.0</td>\n",
       "      <td>165</td>\n",
       "      <td>3693.0</td>\n",
       "      <td>11.5</td>\n",
       "      <td>70.0</td>\n",
       "      <td>1.0</td>\n",
       "      <td>buick skylark 320</td>\n",
       "    </tr>\n",
       "    <tr>\n",
       "      <th>2</th>\n",
       "      <td>18.0</td>\n",
       "      <td>8.0</td>\n",
       "      <td>318.0</td>\n",
       "      <td>150</td>\n",
       "      <td>3436.0</td>\n",
       "      <td>11.0</td>\n",
       "      <td>70.0</td>\n",
       "      <td>1.0</td>\n",
       "      <td>plymouth satellite</td>\n",
       "    </tr>\n",
       "    <tr>\n",
       "      <th>3</th>\n",
       "      <td>16.0</td>\n",
       "      <td>8.0</td>\n",
       "      <td>304.0</td>\n",
       "      <td>150</td>\n",
       "      <td>3433.0</td>\n",
       "      <td>12.0</td>\n",
       "      <td>70.0</td>\n",
       "      <td>1.0</td>\n",
       "      <td>amc rebel sst</td>\n",
       "    </tr>\n",
       "    <tr>\n",
       "      <th>4</th>\n",
       "      <td>17.0</td>\n",
       "      <td>8.0</td>\n",
       "      <td>302.0</td>\n",
       "      <td>140</td>\n",
       "      <td>3449.0</td>\n",
       "      <td>10.5</td>\n",
       "      <td>70.0</td>\n",
       "      <td>1.0</td>\n",
       "      <td>ford torino</td>\n",
       "    </tr>\n",
       "  </tbody>\n",
       "</table>\n",
       "</div>"
      ],
      "text/plain": [
       "    mpg  cylinders  displacement horsepower  weight  acceleration  model year  \\\n",
       "0  18.0        8.0         307.0        130  3504.0          12.0        70.0   \n",
       "1  15.0        8.0         350.0        165  3693.0          11.5        70.0   \n",
       "2  18.0        8.0         318.0        150  3436.0          11.0        70.0   \n",
       "3  16.0        8.0         304.0        150  3433.0          12.0        70.0   \n",
       "4  17.0        8.0         302.0        140  3449.0          10.5        70.0   \n",
       "\n",
       "   origin                   car name  \n",
       "0     1.0  chevrolet chevelle malibu  \n",
       "1     1.0          buick skylark 320  \n",
       "2     1.0         plymouth satellite  \n",
       "3     1.0              amc rebel sst  \n",
       "4     1.0                ford torino  "
      ]
     },
     "execution_count": 72,
     "metadata": {},
     "output_type": "execute_result"
    }
   ],
   "source": [
    "df.head()"
   ]
  },
  {
   "cell_type": "code",
   "execution_count": 73,
   "id": "e8651cb0-3210-4d9d-8232-826b1ab1bf92",
   "metadata": {},
   "outputs": [
    {
     "data": {
      "text/plain": [
       "(394, 9)"
      ]
     },
     "execution_count": 73,
     "metadata": {},
     "output_type": "execute_result"
    }
   ],
   "source": [
    "df.shape"
   ]
  },
  {
   "cell_type": "code",
   "execution_count": null,
   "id": "9a25ad9c-501a-41cf-aad0-0cce30bdb64f",
   "metadata": {},
   "outputs": [],
   "source": []
  },
  {
   "cell_type": "code",
   "execution_count": 74,
   "id": "da2ceedb-6f19-4f6f-b92c-5dd064ea06a1",
   "metadata": {},
   "outputs": [
    {
     "data": {
      "text/plain": [
       "<seaborn.axisgrid.FacetGrid at 0x193a5945010>"
      ]
     },
     "execution_count": 74,
     "metadata": {},
     "output_type": "execute_result"
    },
    {
     "data": {
      "text/plain": [
       "<Figure size 1500x900 with 0 Axes>"
      ]
     },
     "metadata": {},
     "output_type": "display_data"
    },
    {
     "data": {
      "image/png": "[encoded data removed]",
      "text/plain": [
       "<Figure size 7000x500 with 14 Axes>"
      ]
     },
     "metadata": {},
     "output_type": "display_data"
    }
   ],
   "source": [
    "plt.figure(figsize = (10,6), dpi = 150)\n",
    "sns.catplot(data = df, x = 'cylinders',y='mpg', kind = 'box', col = 'model year')"
   ]
  },
  {
   "cell_type": "code",
   "execution_count": 75,
   "id": "55218167-49ab-4b0c-9f6d-c0a77d9b65c4",
   "metadata": {},
   "outputs": [
    {
     "data": {
      "text/plain": [
       "<Axes: xlabel='cylinders', ylabel='mpg'>"
      ]
     },
     "execution_count": 75,
     "metadata": {},
     "output_type": "execute_result"
    },
    {
     "data": {
      "image/png": "[encoded data removed]",
      "text/plain": [
       "<Figure size 640x480 with 1 Axes>"
      ]
     },
     "metadata": {},
     "output_type": "display_data"
    }
   ],
   "source": [
    "sns.scatterplot(data = df, x = 'cylinders',y='mpg')"
   ]
  },
  {
   "cell_type": "code",
   "execution_count": null,
   "id": "13334e7a-2f84-4e47-a404-3819770e38f2",
   "metadata": {},
   "outputs": [],
   "source": []
  },
  {
   "cell_type": "code",
   "execution_count": 76,
   "id": "601a8d1e-189a-4b62-8dfd-2b624a38dbd2",
   "metadata": {},
   "outputs": [],
   "source": [
    "df = df[~(df['model year'] == 15.56)]\n",
    "# error value"
   ]
  },
  {
   "cell_type": "code",
   "execution_count": 77,
   "id": "cbe0a952-e55e-44d3-b8ae-b12fab74ad6f",
   "metadata": {},
   "outputs": [
    {
     "data": {
      "text/html": [
       "<div>\n",
       "<style scoped>\n",
       "    .dataframe tbody tr th:only-of-type {\n",
       "        vertical-align: middle;\n",
       "    }\n",
       "\n",
       "    .dataframe tbody tr th {\n",
       "        vertical-align: top;\n",
       "    }\n",
       "\n",
       "    .dataframe thead th {\n",
       "        text-align: right;\n",
       "    }\n",
       "</style>\n",
       "<table border=\"1\" class=\"dataframe\">\n",
       "  <thead>\n",
       "    <tr style=\"text-align: right;\">\n",
       "      <th></th>\n",
       "      <th>mpg</th>\n",
       "      <th>cylinders</th>\n",
       "      <th>displacement</th>\n",
       "      <th>weight</th>\n",
       "      <th>acceleration</th>\n",
       "      <th>model year</th>\n",
       "      <th>origin</th>\n",
       "    </tr>\n",
       "  </thead>\n",
       "  <tbody>\n",
       "    <tr>\n",
       "      <th>mpg</th>\n",
       "      <td>1.000000</td>\n",
       "      <td>-0.779943</td>\n",
       "      <td>-0.807973</td>\n",
       "      <td>-0.837859</td>\n",
       "      <td>0.397911</td>\n",
       "      <td>0.571302</td>\n",
       "      <td>0.566012</td>\n",
       "    </tr>\n",
       "    <tr>\n",
       "      <th>cylinders</th>\n",
       "      <td>-0.779943</td>\n",
       "      <td>1.000000</td>\n",
       "      <td>0.950939</td>\n",
       "      <td>0.896567</td>\n",
       "      <td>-0.508801</td>\n",
       "      <td>-0.345171</td>\n",
       "      <td>-0.566206</td>\n",
       "    </tr>\n",
       "    <tr>\n",
       "      <th>displacement</th>\n",
       "      <td>-0.807973</td>\n",
       "      <td>0.950939</td>\n",
       "      <td>1.000000</td>\n",
       "      <td>0.933495</td>\n",
       "      <td>-0.539155</td>\n",
       "      <td>-0.362135</td>\n",
       "      <td>-0.616399</td>\n",
       "    </tr>\n",
       "    <tr>\n",
       "      <th>weight</th>\n",
       "      <td>-0.837859</td>\n",
       "      <td>0.896567</td>\n",
       "      <td>0.933495</td>\n",
       "      <td>1.000000</td>\n",
       "      <td>-0.416182</td>\n",
       "      <td>-0.305548</td>\n",
       "      <td>-0.586527</td>\n",
       "    </tr>\n",
       "    <tr>\n",
       "      <th>acceleration</th>\n",
       "      <td>0.397911</td>\n",
       "      <td>-0.508801</td>\n",
       "      <td>-0.539155</td>\n",
       "      <td>-0.416182</td>\n",
       "      <td>1.000000</td>\n",
       "      <td>0.260375</td>\n",
       "      <td>0.218500</td>\n",
       "    </tr>\n",
       "    <tr>\n",
       "      <th>model year</th>\n",
       "      <td>0.571302</td>\n",
       "      <td>-0.345171</td>\n",
       "      <td>-0.362135</td>\n",
       "      <td>-0.305548</td>\n",
       "      <td>0.260375</td>\n",
       "      <td>1.000000</td>\n",
       "      <td>0.172588</td>\n",
       "    </tr>\n",
       "    <tr>\n",
       "      <th>origin</th>\n",
       "      <td>0.566012</td>\n",
       "      <td>-0.566206</td>\n",
       "      <td>-0.616399</td>\n",
       "      <td>-0.586527</td>\n",
       "      <td>0.218500</td>\n",
       "      <td>0.172588</td>\n",
       "      <td>1.000000</td>\n",
       "    </tr>\n",
       "  </tbody>\n",
       "</table>\n",
       "</div>"
      ],
      "text/plain": [
       "                   mpg  cylinders  displacement    weight  acceleration  \\\n",
       "mpg           1.000000  -0.779943     -0.807973 -0.837859      0.397911   \n",
       "cylinders    -0.779943   1.000000      0.950939  0.896567     -0.508801   \n",
       "displacement -0.807973   0.950939      1.000000  0.933495     -0.539155   \n",
       "weight       -0.837859   0.896567      0.933495  1.000000     -0.416182   \n",
       "acceleration  0.397911  -0.508801     -0.539155 -0.416182      1.000000   \n",
       "model year    0.571302  -0.345171     -0.362135 -0.305548      0.260375   \n",
       "origin        0.566012  -0.566206     -0.616399 -0.586527      0.218500   \n",
       "\n",
       "              model year    origin  \n",
       "mpg             0.571302  0.566012  \n",
       "cylinders      -0.345171 -0.566206  \n",
       "displacement   -0.362135 -0.616399  \n",
       "weight         -0.305548 -0.586527  \n",
       "acceleration    0.260375  0.218500  \n",
       "model year      1.000000  0.172588  \n",
       "origin          0.172588  1.000000  "
      ]
     },
     "execution_count": 77,
     "metadata": {},
     "output_type": "execute_result"
    }
   ],
   "source": [
    "df.corr(numeric_only = True)\n",
    "# All columns have good correlation value with MPG "
   ]
  },
  {
   "cell_type": "code",
   "execution_count": null,
   "id": "d290d577-32fe-4ce6-a855-68eddcbd5446",
   "metadata": {},
   "outputs": [],
   "source": []
  },
  {
   "cell_type": "code",
   "execution_count": 78,
   "id": "0ee592bd-9a59-40c7-85a4-517d978dd073",
   "metadata": {},
   "outputs": [
    {
     "data": {
      "text/html": [
       "<div>\n",
       "<style scoped>\n",
       "    .dataframe tbody tr th:only-of-type {\n",
       "        vertical-align: middle;\n",
       "    }\n",
       "\n",
       "    .dataframe tbody tr th {\n",
       "        vertical-align: top;\n",
       "    }\n",
       "\n",
       "    .dataframe thead th {\n",
       "        text-align: right;\n",
       "    }\n",
       "</style>\n",
       "<table border=\"1\" class=\"dataframe\">\n",
       "  <thead>\n",
       "    <tr style=\"text-align: right;\">\n",
       "      <th></th>\n",
       "      <th>mpg</th>\n",
       "      <th>cylinders</th>\n",
       "      <th>displacement</th>\n",
       "      <th>horsepower</th>\n",
       "      <th>weight</th>\n",
       "      <th>acceleration</th>\n",
       "      <th>model year</th>\n",
       "      <th>origin</th>\n",
       "      <th>car name</th>\n",
       "    </tr>\n",
       "  </thead>\n",
       "  <tbody>\n",
       "    <tr>\n",
       "      <th>0</th>\n",
       "      <td>18.0</td>\n",
       "      <td>8.0</td>\n",
       "      <td>307.0</td>\n",
       "      <td>130</td>\n",
       "      <td>3504.0</td>\n",
       "      <td>12.0</td>\n",
       "      <td>70.0</td>\n",
       "      <td>1.0</td>\n",
       "      <td>chevrolet chevelle malibu</td>\n",
       "    </tr>\n",
       "  </tbody>\n",
       "</table>\n",
       "</div>"
      ],
      "text/plain": [
       "    mpg  cylinders  displacement horsepower  weight  acceleration  model year  \\\n",
       "0  18.0        8.0         307.0        130  3504.0          12.0        70.0   \n",
       "\n",
       "   origin                   car name  \n",
       "0     1.0  chevrolet chevelle malibu  "
      ]
     },
     "execution_count": 78,
     "metadata": {},
     "output_type": "execute_result"
    }
   ],
   "source": [
    "df.head(1)"
   ]
  },
  {
   "cell_type": "code",
   "execution_count": 82,
   "id": "c09e7ad4-2e23-4731-8ed2-9cd97d206698",
   "metadata": {},
   "outputs": [
    {
     "name": "stderr",
     "output_type": "stream",
     "text": [
      "C:\\Users\\shreyas.sridharan.lv\\AppData\\Local\\Temp\\ipykernel_10348\\1472196544.py:2: SettingWithCopyWarning: \n",
      "A value is trying to be set on a copy of a slice from a DataFrame.\n",
      "Try using .loc[row_indexer,col_indexer] = value instead\n",
      "\n",
      "See the caveats in the documentation: https://pandas.pydata.org/pandas-docs/stable/user_guide/indexing.html#returning-a-view-versus-a-copy\n",
      "  df['car name'] = label.fit_transform(df['car name'])\n"
     ]
    }
   ],
   "source": [
    "label = LabelEncoder()\n",
    "df['car name'] = label.fit_transform(df['car name'])"
   ]
  },
  {
   "cell_type": "code",
   "execution_count": 84,
   "id": "1689a9e1-b0b4-4453-b654-2076cf86de4d",
   "metadata": {},
   "outputs": [
    {
     "name": "stderr",
     "output_type": "stream",
     "text": [
      "C:\\Users\\shreyas.sridharan.lv\\AppData\\Local\\Temp\\ipykernel_10348\\303220450.py:1: SettingWithCopyWarning: \n",
      "A value is trying to be set on a copy of a slice from a DataFrame.\n",
      "Try using .loc[row_indexer,col_indexer] = value instead\n",
      "\n",
      "See the caveats in the documentation: https://pandas.pydata.org/pandas-docs/stable/user_guide/indexing.html#returning-a-view-versus-a-copy\n",
      "  df['car_actual_names'] = label.inverse_transform(df['car name'])\n"
     ]
    }
   ],
   "source": [
    "df['car_actual_names'] = label.inverse_transform(df['car name'])"
   ]
  },
  {
   "cell_type": "code",
   "execution_count": 86,
   "id": "a97217b2-f9c1-477c-a479-f42001110855",
   "metadata": {},
   "outputs": [
    {
     "data": {
      "text/html": [
       "<div>\n",
       "<style scoped>\n",
       "    .dataframe tbody tr th:only-of-type {\n",
       "        vertical-align: middle;\n",
       "    }\n",
       "\n",
       "    .dataframe tbody tr th {\n",
       "        vertical-align: top;\n",
       "    }\n",
       "\n",
       "    .dataframe thead th {\n",
       "        text-align: right;\n",
       "    }\n",
       "</style>\n",
       "<table border=\"1\" class=\"dataframe\">\n",
       "  <thead>\n",
       "    <tr style=\"text-align: right;\">\n",
       "      <th></th>\n",
       "      <th>mpg</th>\n",
       "      <th>cylinders</th>\n",
       "      <th>displacement</th>\n",
       "      <th>horsepower</th>\n",
       "      <th>weight</th>\n",
       "      <th>acceleration</th>\n",
       "      <th>model year</th>\n",
       "      <th>origin</th>\n",
       "      <th>car name</th>\n",
       "      <th>car_actual_names</th>\n",
       "    </tr>\n",
       "  </thead>\n",
       "  <tbody>\n",
       "    <tr>\n",
       "      <th>0</th>\n",
       "      <td>18.0</td>\n",
       "      <td>8.0</td>\n",
       "      <td>307.0</td>\n",
       "      <td>130</td>\n",
       "      <td>3504.0</td>\n",
       "      <td>12.0</td>\n",
       "      <td>70.0</td>\n",
       "      <td>1.0</td>\n",
       "      <td>47</td>\n",
       "      <td>chevrolet chevelle malibu</td>\n",
       "    </tr>\n",
       "    <tr>\n",
       "      <th>1</th>\n",
       "      <td>15.0</td>\n",
       "      <td>8.0</td>\n",
       "      <td>350.0</td>\n",
       "      <td>165</td>\n",
       "      <td>3693.0</td>\n",
       "      <td>11.5</td>\n",
       "      <td>70.0</td>\n",
       "      <td>1.0</td>\n",
       "      <td>34</td>\n",
       "      <td>buick skylark 320</td>\n",
       "    </tr>\n",
       "    <tr>\n",
       "      <th>2</th>\n",
       "      <td>18.0</td>\n",
       "      <td>8.0</td>\n",
       "      <td>318.0</td>\n",
       "      <td>150</td>\n",
       "      <td>3436.0</td>\n",
       "      <td>11.0</td>\n",
       "      <td>70.0</td>\n",
       "      <td>1.0</td>\n",
       "      <td>225</td>\n",
       "      <td>plymouth satellite</td>\n",
       "    </tr>\n",
       "    <tr>\n",
       "      <th>3</th>\n",
       "      <td>16.0</td>\n",
       "      <td>8.0</td>\n",
       "      <td>304.0</td>\n",
       "      <td>150</td>\n",
       "      <td>3433.0</td>\n",
       "      <td>12.0</td>\n",
       "      <td>70.0</td>\n",
       "      <td>1.0</td>\n",
       "      <td>13</td>\n",
       "      <td>amc rebel sst</td>\n",
       "    </tr>\n",
       "    <tr>\n",
       "      <th>4</th>\n",
       "      <td>17.0</td>\n",
       "      <td>8.0</td>\n",
       "      <td>302.0</td>\n",
       "      <td>140</td>\n",
       "      <td>3449.0</td>\n",
       "      <td>10.5</td>\n",
       "      <td>70.0</td>\n",
       "      <td>1.0</td>\n",
       "      <td>156</td>\n",
       "      <td>ford torino</td>\n",
       "    </tr>\n",
       "  </tbody>\n",
       "</table>\n",
       "</div>"
      ],
      "text/plain": [
       "    mpg  cylinders  displacement horsepower  weight  acceleration  model year  \\\n",
       "0  18.0        8.0         307.0        130  3504.0          12.0        70.0   \n",
       "1  15.0        8.0         350.0        165  3693.0          11.5        70.0   \n",
       "2  18.0        8.0         318.0        150  3436.0          11.0        70.0   \n",
       "3  16.0        8.0         304.0        150  3433.0          12.0        70.0   \n",
       "4  17.0        8.0         302.0        140  3449.0          10.5        70.0   \n",
       "\n",
       "   origin  car name           car_actual_names  \n",
       "0     1.0        47  chevrolet chevelle malibu  \n",
       "1     1.0        34          buick skylark 320  \n",
       "2     1.0       225         plymouth satellite  \n",
       "3     1.0        13              amc rebel sst  \n",
       "4     1.0       156                ford torino  "
      ]
     },
     "execution_count": 86,
     "metadata": {},
     "output_type": "execute_result"
    }
   ],
   "source": [
    "df.head()"
   ]
  },
  {
   "cell_type": "code",
   "execution_count": 87,
   "id": "b5bc28fb-55ed-436d-aaff-37966c53022d",
   "metadata": {},
   "outputs": [
    {
     "name": "stderr",
     "output_type": "stream",
     "text": [
      "C:\\Users\\shreyas.sridharan.lv\\AppData\\Local\\Temp\\ipykernel_10348\\1177124999.py:1: SettingWithCopyWarning: \n",
      "A value is trying to be set on a copy of a slice from a DataFrame\n",
      "\n",
      "See the caveats in the documentation: https://pandas.pydata.org/pandas-docs/stable/user_guide/indexing.html#returning-a-view-versus-a-copy\n",
      "  df.drop(columns = {'car_actual_names'}, inplace = True)\n"
     ]
    }
   ],
   "source": [
    "df.drop(columns = {'car_actual_names'}, inplace = True)"
   ]
  },
  {
   "cell_type": "code",
   "execution_count": 94,
   "id": "3e590ed1-941b-4c63-b430-02a1d5e38270",
   "metadata": {},
   "outputs": [
    {
     "name": "stdout",
     "output_type": "stream",
     "text": [
      "mpg :  [18.  15.  16.  17.  14.  24.  22.  21.  27.  26.  25.  10.  11.   9.\n",
      " 28.  19.  12.  13.  23.  30.  31.  35.  20.  29.  32.  33.  17.5 15.5\n",
      " 14.5 22.5 18.5 29.5 26.5 16.5 31.5 36.  25.5 33.5 20.5 24.5 30.5 21.5\n",
      " 43.1 36.1 32.8 39.4 19.9 19.4 20.2 19.2 25.1 20.6 20.8 18.6 18.1 17.7\n",
      " 27.5 27.2 30.9 21.1 23.2 23.8 23.9 20.3 21.6 16.2 19.8 22.3 17.6 18.2\n",
      " 16.9 31.9 34.1 35.7 27.4 25.4 34.2 34.5 31.8 37.3 28.4 28.8 26.8 41.5\n",
      " 38.1 32.1 37.2 26.4 24.3 19.1 34.3 29.8 31.3 37.  32.2 46.6 27.9 40.8\n",
      " 44.3 36.4 44.6 40.9 33.8 32.7 23.7 23.6 32.4 26.6 25.8 23.5 39.1 39.\n",
      " 35.1 32.3 37.7 34.7 34.4 29.9 33.7 32.9 31.6 28.1 30.7 24.2 22.4 34.\n",
      " 38. ]\n",
      "cylinders :  [8. 4. 6. 3. 5.]\n",
      "displacement :  [307.  350.  318.  304.  302.  429.  454.  455.  383.  400.  113.  198.\n",
      " 199.  200.   97.  110.  107.  104.  360.  140.  232.  225.  250.  351.\n",
      " 258.  122.  116.   79.   88.   71.   72.   91.   97.5  70.  121.  120.\n",
      "  96.   98.  440.  108.  155.   68.  114.  156.   76.   83.   90.  231.\n",
      " 262.  134.  119.  171.  115.  101.  305.   85.  130.  168.  111.  260.\n",
      " 151.  146.   80.   78.  105.  131.  163.   89.  267.   86.  183.  173.\n",
      " 135.   81.  100.  141.  145.  112.  181.  144. ]\n",
      "horsepower :  ['130' '165' '150' '140' '198' '220' '225' '170' '95' '97' '85' '88' '46'\n",
      " '87' '90' '215' '200' '210' '193' '100' '105' '175' '153' '180' '110'\n",
      " '72' '86' '70' '76' '65' '69' '60' '80' '208' '155' '160' '190' '112'\n",
      " '92' '145' '137' '158' '167' '94' '107' '230' '49' '75' '91' '122' '?'\n",
      " '67' '83' '78' '52' '61' '93' '148' '129' '96' '71' '98' '115' '53' '81'\n",
      " '79' '120' '152' '102' '108' '68' '58' '149' '89' '63' '48' '66' '139'\n",
      " '103' '125' '133' '138' '135' '142' '77' '62' '132' '84' '64' '74' '116'\n",
      " '82']\n",
      "weight :  [3504. 3693. 3436. 3433. 3449. 4341. 4354. 4425. 3563. 3761. 3086. 2372.\n",
      " 2833. 2774. 2587. 2130. 1835. 2672. 2430. 2375. 2648. 4615. 4376. 4382.\n",
      " 4732. 2264. 2228. 2634. 3439. 3329. 3302. 3288. 4209. 4464. 4154. 4096.\n",
      " 4955. 4746. 5140. 2962. 2408. 3282. 3139. 2220. 2123. 2074. 2065. 1773.\n",
      " 1613. 1834. 1955. 2278. 2126. 2226. 4274. 4385. 4135. 4129. 3672. 4633.\n",
      " 4502. 4456. 4422. 2330. 3892. 4098. 4294. 4077. 2933. 2511. 2979. 2189.\n",
      " 2395. 2288. 2506. 2164. 2100. 4100. 3988. 4042. 3777. 4952. 4363. 4237.\n",
      " 4735. 4951. 3821. 3121. 3278. 2945. 3021. 2904. 1950. 4997. 4906. 4654.\n",
      " 4499. 2789. 2279. 2401. 2379. 2124. 2310. 2472. 2265. 4082. 4278. 1867.\n",
      " 2158. 2582. 2868. 3399. 2660. 2807. 3664. 3102. 2875. 2901. 3336. 2451.\n",
      " 1836. 2542. 3781. 3632. 3613. 4141. 4699. 4457. 4638. 4257. 2219. 1963.\n",
      " 2300. 1649. 2003. 2125. 2108. 2246. 2489. 2391. 2000. 3264. 3459. 3432.\n",
      " 3158. 4668. 4440. 4498. 4657. 3907. 3897. 3730. 3785. 3039. 3221. 3169.\n",
      " 2171. 2639. 2914. 2592. 2702. 2223. 2545. 2984. 1937. 3211. 2694. 2957.\n",
      " 2671. 1795. 2464. 2572. 2255. 2202. 4215. 4190. 3962. 3233. 3353. 3012.\n",
      " 3085. 3651. 3574. 3645. 3193. 1825. 1990. 2155. 2565. 3150. 3940. 3270.\n",
      " 2930. 3820. 4380. 4055. 3870. 3755. 2045. 1945. 3880. 4060. 4140. 4295.\n",
      " 3520. 3425. 3630. 3525. 4220. 4165. 4325. 4335. 1940. 2740. 2755. 2051.\n",
      " 2075. 1985. 2190. 2815. 2600. 2720. 1800. 2070. 3365. 3735. 3570. 3535.\n",
      " 3155. 2965. 3430. 3210. 3380. 3070. 3620. 3410. 3445. 3205. 4080. 2560.\n",
      " 2230. 2515. 2745. 2855. 2405. 2830. 3140. 2795. 2135. 3245. 2990. 2890.\n",
      " 3265. 3360. 3840. 3725. 3955. 3830. 4360. 4054. 3605. 1925. 1975. 1915.\n",
      " 2670. 3530. 3900. 2200. 2150. 2020. 2595. 2700. 2556. 2144. 1968. 2120.\n",
      " 2019. 2678. 2870. 3003. 3381. 2188. 2711. 2434. 2110. 2800. 2085. 2950.\n",
      " 3250. 1850. 2145. 1845. 2910. 2420. 2500. 2905. 2290. 2490. 2635. 2620.\n",
      " 2725. 2385. 1755. 1875. 1760. 2050. 2215. 2380. 2320. 2210. 2350. 2615.\n",
      " 3230. 3160. 2900. 3415. 3060. 3465. 2605. 2640. 2575. 2525. 2735. 2865.\n",
      " 3035. 1980. 2025. 1970. 2160. 2205. 2245. 1965. 3015. 2585. 2835. 2665.\n",
      " 2370. 2790. 2295.]\n",
      "acceleration :  [12.  11.5 11.  10.5 10.   9.   9.5 15.  15.5 16.  14.5 20.5 17.5 14.\n",
      " 13.5 18.5 13.  19.  19.5 18.  17.  16.5 12.5 21.  16.9 14.9 17.7 15.3\n",
      " 13.9 12.8 15.4 17.6 14.2 17.4 16.2 17.8 12.2 16.4 13.6 15.7 13.2 21.9\n",
      " 16.7 12.1 14.8 18.6 16.8 13.7 11.1 11.4 18.2 15.8 15.9 14.1 21.5 14.4\n",
      " 19.4 19.2 17.2 18.7 15.1 13.4 11.2 14.7 16.6 17.3 15.2 14.3 20.1 11.3\n",
      " 12.9 18.8 18.1 17.9 21.7 19.9 21.8 13.8 12.6 16.1 20.7 18.3 20.4 19.6\n",
      " 17.1 15.6 11.6]\n",
      "model year :  [70. 71. 72. 73. 74. 75. 76. 77. 78. 79. 80. 81. 82.]\n",
      "origin :  [1. 3. 2.]\n",
      "car name :  [ 47  34 225  13 156 137  52 235  97  55  28 268 214   7 146  91 276 206\n",
      "  15 252   6 129  65 108 158  63 265 226 157   9 236 217 112 125 244   8\n",
      "  62 237 147 182 203 205 119 261  73 280 212 266 101  61 154   1 187  29\n",
      " 198  72 178  10  46 139 227 288 277 207 247 153  81 273 100 262  23  53\n",
      " 138 105 188  42 144 216  71  27   0 229  60 286 124 213 202 257  83 169\n",
      " 152 183 117  57 238 120 204  16 287 109 254 270 199  59  88  48 228  25\n",
      " 106  20 278  84  99 118 162 255 123 230 189  40 218  22  39 215  32  58\n",
      " 150 260 234 281  11 289 166 121  38 248 104 293  96 141 246  12  87 290\n",
      " 233 181  37  64 128 107 160  30 250 210  90 197 113 184  51  33 232 140\n",
      " 239  56  67 155 282 245 263 151  49 103 256  85  21 176 283 135 175  89\n",
      " 196 110 190 243 131 132 231   2  26 191  94   3  31 136 111  80 114 259\n",
      " 224 201  74  18 291 253 209 285 161 241 192 133   5  95 145 185 116  54\n",
      "  70 295 168 102  14 179  36 219 222  76 122  35  50 200 242 264  79 130\n",
      "  17 267 170  82 171 294  19 180 165 251 275  78 177 274 148 159 223  93\n",
      " 271 211 164  77 272 172 220 127 126 279 249 167  75 208 292 269  86 195\n",
      " 142  69  43  45  44 240  92 134   4 284 174 173 221 186 193 163  24 194\n",
      "  68 143 258  98  41 149 115  66]\n"
     ]
    }
   ],
   "source": [
    "for i in df.columns:\n",
    "    print(i,': ',df[i].unique())"
   ]
  },
  {
   "cell_type": "code",
   "execution_count": 96,
   "id": "0b3d45af-1c86-420d-bc07-58e2572a4fb8",
   "metadata": {},
   "outputs": [],
   "source": [
    "df= df[~(df['horsepower'] == '?')]\n",
    "# another error value"
   ]
  },
  {
   "cell_type": "code",
   "execution_count": 97,
   "id": "4946161a-76dd-4086-a9a7-0b980cbdc545",
   "metadata": {},
   "outputs": [
    {
     "name": "stdout",
     "output_type": "stream",
     "text": [
      "<class 'pandas.core.frame.DataFrame'>\n",
      "Index: 379 entries, 0 to 397\n",
      "Data columns (total 9 columns):\n",
      " #   Column        Non-Null Count  Dtype  \n",
      "---  ------        --------------  -----  \n",
      " 0   mpg           379 non-null    float64\n",
      " 1   cylinders     379 non-null    float64\n",
      " 2   displacement  379 non-null    float64\n",
      " 3   horsepower    379 non-null    object \n",
      " 4   weight        379 non-null    float64\n",
      " 5   acceleration  379 non-null    float64\n",
      " 6   model year    379 non-null    float64\n",
      " 7   origin        379 non-null    float64\n",
      " 8   car name      379 non-null    int32  \n",
      "dtypes: float64(7), int32(1), object(1)\n",
      "memory usage: 28.1+ KB\n"
     ]
    }
   ],
   "source": [
    "df.info()"
   ]
  },
  {
   "cell_type": "code",
   "execution_count": null,
   "id": "9cf4df1b-c34a-4749-a1b2-7bce0c3af142",
   "metadata": {},
   "outputs": [],
   "source": []
  },
  {
   "cell_type": "code",
   "execution_count": 98,
   "id": "4fbea047-a7fe-46de-b6af-cc28892481a1",
   "metadata": {},
   "outputs": [],
   "source": [
    "X = df.drop(columns = {'mpg'})\n",
    "y = df['mpg']"
   ]
  },
  {
   "cell_type": "code",
   "execution_count": 99,
   "id": "2c25757c-2344-4b35-b515-26334bc8bde8",
   "metadata": {},
   "outputs": [],
   "source": [
    "X_train, X_test, y_train, y_test = train_test_split(X, y, test_size=0.25, random_state=101)"
   ]
  },
  {
   "cell_type": "code",
   "execution_count": 100,
   "id": "f513d879-93ff-46be-81f4-675c27c14ef7",
   "metadata": {},
   "outputs": [],
   "source": [
    "D_tree = DecisionTreeRegressor(max_features = 'log2')"
   ]
  },
  {
   "cell_type": "code",
   "execution_count": 101,
   "id": "5e87d1e8-12f7-44cf-8154-c44ef0693755",
   "metadata": {},
   "outputs": [
    {
     "data": {
      "text/html": [
       "<style>#sk-container-id-1 {color: black;background-color: white;}#sk-container-id-1 pre{padding: 0;}#sk-container-id-1 div.sk-toggleable {background-color: white;}#sk-container-id-1 label.sk-toggleable__label {cursor: pointer;display: block;width: 100%;margin-bottom: 0;padding: 0.3em;box-sizing: border-box;text-align: center;}#sk-container-id-1 label.sk-toggleable__label-arrow:before {content: \"▸\";float: left;margin-right: 0.25em;color: #696969;}#sk-container-id-1 label.sk-toggleable__label-arrow:hover:before {color: black;}#sk-container-id-1 div.sk-estimator:hover label.sk-toggleable__label-arrow:before {color: black;}#sk-container-id-1 div.sk-toggleable__content {max-height: 0;max-width: 0;overflow: hidden;text-align: left;background-color: #f0f8ff;}#sk-container-id-1 div.sk-toggleable__content pre {margin: 0.2em;color: black;border-radius: 0.25em;background-color: #f0f8ff;}#sk-container-id-1 input.sk-toggleable__control:checked~div.sk-toggleable__content {max-height: 200px;max-width: 100%;overflow: auto;}#sk-container-id-1 input.sk-toggleable__control:checked~label.sk-toggleable__label-arrow:before {content: \"▾\";}#sk-container-id-1 div.sk-estimator input.sk-toggleable__control:checked~label.sk-toggleable__label {background-color: #d4ebff;}#sk-container-id-1 div.sk-label input.sk-toggleable__control:checked~label.sk-toggleable__label {background-color: #d4ebff;}#sk-container-id-1 input.sk-hidden--visually {border: 0;clip: rect(1px 1px 1px 1px);clip: rect(1px, 1px, 1px, 1px);height: 1px;margin: -1px;overflow: hidden;padding: 0;position: absolute;width: 1px;}#sk-container-id-1 div.sk-estimator {font-family: monospace;background-color: #f0f8ff;border: 1px dotted black;border-radius: 0.25em;box-sizing: border-box;margin-bottom: 0.5em;}#sk-container-id-1 div.sk-estimator:hover {background-color: #d4ebff;}#sk-container-id-1 div.sk-parallel-item::after {content: \"\";width: 100%;border-bottom: 1px solid gray;flex-grow: 1;}#sk-container-id-1 div.sk-label:hover label.sk-toggleable__label {background-color: #d4ebff;}#sk-container-id-1 div.sk-serial::before {content: \"\";position: absolute;border-left: 1px solid gray;box-sizing: border-box;top: 0;bottom: 0;left: 50%;z-index: 0;}#sk-container-id-1 div.sk-serial {display: flex;flex-direction: column;align-items: center;background-color: white;padding-right: 0.2em;padding-left: 0.2em;position: relative;}#sk-container-id-1 div.sk-item {position: relative;z-index: 1;}#sk-container-id-1 div.sk-parallel {display: flex;align-items: stretch;justify-content: center;background-color: white;position: relative;}#sk-container-id-1 div.sk-item::before, #sk-container-id-1 div.sk-parallel-item::before {content: \"\";position: absolute;border-left: 1px solid gray;box-sizing: border-box;top: 0;bottom: 0;left: 50%;z-index: -1;}#sk-container-id-1 div.sk-parallel-item {display: flex;flex-direction: column;z-index: 1;position: relative;background-color: white;}#sk-container-id-1 div.sk-parallel-item:first-child::after {align-self: flex-end;width: 50%;}#sk-container-id-1 div.sk-parallel-item:last-child::after {align-self: flex-start;width: 50%;}#sk-container-id-1 div.sk-parallel-item:only-child::after {width: 0;}#sk-container-id-1 div.sk-dashed-wrapped {border: 1px dashed gray;margin: 0 0.4em 0.5em 0.4em;box-sizing: border-box;padding-bottom: 0.4em;background-color: white;}#sk-container-id-1 div.sk-label label {font-family: monospace;font-weight: bold;display: inline-block;line-height: 1.2em;}#sk-container-id-1 div.sk-label-container {text-align: center;}#sk-container-id-1 div.sk-container {/* jupyter's `normalize.less` sets `[hidden] { display: none; }` but bootstrap.min.css set `[hidden] { display: none !important; }` so we also need the `!important` here to be able to override the default hidden behavior on the sphinx rendered scikit-learn.org. See: https://github.com/scikit-learn/scikit-learn/issues/21755 */display: inline-block !important;position: relative;}#sk-container-id-1 div.sk-text-repr-fallback {display: none;}</style><div id=\"sk-container-id-1\" class=\"sk-top-container\"><div class=\"sk-text-repr-fallback\"><pre>DecisionTreeRegressor(max_features=&#x27;log2&#x27;)</pre><b>In a Jupyter environment, please rerun this cell to show the HTML representation or trust the notebook. <br />On GitHub, the HTML representation is unable to render, please try loading this page with nbviewer.org.</b></div><div class=\"sk-container\" hidden><div class=\"sk-item\"><div class=\"sk-estimator sk-toggleable\"><input class=\"sk-toggleable__control sk-hidden--visually\" id=\"sk-estimator-id-1\" type=\"checkbox\" checked><label for=\"sk-estimator-id-1\" class=\"sk-toggleable__label sk-toggleable__label-arrow\">DecisionTreeRegressor</label><div class=\"sk-toggleable__content\"><pre>DecisionTreeRegressor(max_features=&#x27;log2&#x27;)</pre></div></div></div></div></div>"
      ],
      "text/plain": [
       "DecisionTreeRegressor(max_features='log2')"
      ]
     },
     "execution_count": 101,
     "metadata": {},
     "output_type": "execute_result"
    }
   ],
   "source": [
    "D_tree.fit(X_train,y_train)"
   ]
  },
  {
   "cell_type": "code",
   "execution_count": 102,
   "id": "06dc7648-268e-409e-b0d8-919ff6fc8acd",
   "metadata": {},
   "outputs": [],
   "source": [
    "y_pred = D_tree.predict(X_test)"
   ]
  },
  {
   "cell_type": "code",
   "execution_count": 103,
   "id": "19281a10-05fa-49d7-a221-089ef3c037a7",
   "metadata": {},
   "outputs": [],
   "source": [
    "mse = mean_squared_error(y_test,y_pred)\n",
    "rmse = np.sqrt(mse)\n",
    "r2 = r2_score(y_test,y_pred)"
   ]
  },
  {
   "cell_type": "code",
   "execution_count": 104,
   "id": "6c11d537-50a7-4b94-a5ec-733127329924",
   "metadata": {},
   "outputs": [
    {
     "data": {
      "text/plain": [
       "(15.042315789473683, 3.878442443748996, 0.7294978455972079)"
      ]
     },
     "execution_count": 104,
     "metadata": {},
     "output_type": "execute_result"
    }
   ],
   "source": [
    "mse,rmse,r2"
   ]
  },
  {
   "cell_type": "code",
   "execution_count": null,
   "id": "2690c4c0-ae82-4e95-996a-60457ed17335",
   "metadata": {},
   "outputs": [],
   "source": []
  }
 ],
 "metadata": {
  "kernelspec": {
   "display_name": "Python 3 (ipykernel)",
   "language": "python",
   "name": "python3"
  },
  "language_info": {
   "codemirror_mode": {
    "name": "ipython",
    "version": 3
   },
   "file_extension": ".py",
   "mimetype": "text/x-python",
   "name": "python",
   "nbconvert_exporter": "python",
   "pygments_lexer": "ipython3",
   "version": "3.11.7"
  }
 },
 "nbformat": 4,
 "nbformat_minor": 5
}
